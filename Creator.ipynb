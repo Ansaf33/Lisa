{
 "cells": [
  {
   "cell_type": "code",
   "execution_count": 1,
   "id": "49998e99",
   "metadata": {},
   "outputs": [],
   "source": [
    "import os\n",
    "import subprocess"
   ]
  },
  {
   "cell_type": "code",
   "execution_count": 10,
   "id": "8f215759",
   "metadata": {},
   "outputs": [],
   "source": [
    "#BETTER TO HAVE WORKING DIRECTORY IN THE N A Y FILE ITSELF, SINCE WE'LL BE HAVING LOTS OF NIFTI->DICOM CONVERSION\n",
    "\n",
    "\n",
    "wd = ''\n",
    "os.chdir(wd)\n",
    "child_dirs = ['DICOM Files','DICOM Groups','NIFTI Files','Model Details']\n",
    "il = ['Images','Labels']\n",
    "titlvivl = ['train_images','train_labels','val_images','val_labels']\n",
    "\n",
    "for child in child_dirs:\n",
    "    subprocess.run(['mkdir','-p',\"File/\"+child])\n",
    "    \n",
    "for child in child_dirs[:2]:\n",
    "    for f in il:\n",
    "        subprocess.run(['mkdir','-p','File/'+child+'/'+f])\n",
    "    \n",
    "for child in titlvivl:\n",
    "    subprocess.run(['mkdir','-p','File/NIFTI Files/'+child])"
   ]
  },
  {
   "cell_type": "code",
   "execution_count": null,
   "id": "f28f4632",
   "metadata": {},
   "outputs": [],
   "source": []
  }
 ],
 "metadata": {
  "kernelspec": {
   "display_name": "Python 3 (ipykernel)",
   "language": "python",
   "name": "python3"
  },
  "language_info": {
   "codemirror_mode": {
    "name": "ipython",
    "version": 3
   },
   "file_extension": ".py",
   "mimetype": "text/x-python",
   "name": "python",
   "nbconvert_exporter": "python",
   "pygments_lexer": "ipython3",
   "version": "3.11.5"
  }
 },
 "nbformat": 4,
 "nbformat_minor": 5
}
